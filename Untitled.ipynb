{
 "cells": [
  {
   "cell_type": "markdown",
   "metadata": {},
   "source": [
    "The below will be test project to load Ana Vodafone android Commants with all the provided data from google play using backage \n",
    "https://www.linkedin.com/pulse/how-scrape-google-play-reviews-4-simple-steps-using-python-kundi/\n",
    "https://github.com/JoMingyu/google-play-scraper\n",
    "https://github.com/prakharrathi25/Text-Analytics-Tool/blob/main/Notebooks/sentiment_analysis_data_collection.ipynb\n",
    "https://www.kaggle.com/prakharrathi25/google-play-store-reviews\n",
    "https://www.kaggle.com/therealsampat/scraping-google-play-app-reviews/notebook\n"
   ]
  },
  {
   "cell_type": "markdown",
   "metadata": {},
   "source": [
    "1) Scrape Google Play Reviews in 4 simple steps using Python: \n",
    "Install All the needed backages using pip install (! mark beacuse of jubyet)\n",
    "\n",
    "#Step 0: Download and Install Google Play Scraper Package and required packages"
   ]
  },
  {
   "cell_type": "code",
   "execution_count": 1,
   "metadata": {},
   "outputs": [
    {
     "name": "stdout",
     "output_type": "stream",
     "text": [
      "Requirement already satisfied: tqdm in c:\\users\\mohamed\\anaconda3\\lib\\site-packages (4.26.0)\n"
     ]
    },
    {
     "name": "stderr",
     "output_type": "stream",
     "text": [
      "twisted 18.7.0 requires PyHamcrest>=1.9.0, which is not installed.\n",
      "conda 4.11.0 requires ruamel_yaml_conda>=0.11.14, which is not installed.\n",
      "notebook 6.4.8 has requirement Send2Trash>=1.8.0, but you'll have send2trash 1.5.0 which is incompatible.\n",
      "anyio 2.0.2 has requirement idna>=2.8, but you'll have idna 2.7 which is incompatible.\n",
      "You are using pip version 10.0.1, however version 22.0.3 is available.\n",
      "You should consider upgrading via the 'python -m pip install --upgrade pip' command.\n"
     ]
    },
    {
     "name": "stdout",
     "output_type": "stream",
     "text": [
      "Requirement already satisfied: seaborn in c:\\users\\mohamed\\anaconda3\\lib\\site-packages (0.9.0)\n",
      "Requirement already satisfied: matplotlib>=1.4.3 in c:\\users\\mohamed\\anaconda3\\lib\\site-packages (from seaborn) (2.2.3)\n",
      "Requirement already satisfied: scipy>=0.14.0 in c:\\users\\mohamed\\anaconda3\\lib\\site-packages (from seaborn) (1.1.0)\n",
      "Requirement already satisfied: pandas>=0.15.2 in c:\\users\\mohamed\\anaconda3\\lib\\site-packages (from seaborn) (0.23.4)\n",
      "Requirement already satisfied: numpy>=1.9.3 in c:\\users\\mohamed\\anaconda3\\lib\\site-packages (from seaborn) (1.15.1)\n",
      "Requirement already satisfied: cycler>=0.10 in c:\\users\\mohamed\\anaconda3\\lib\\site-packages (from matplotlib>=1.4.3->seaborn) (0.10.0)\n",
      "Requirement already satisfied: pyparsing!=2.0.4,!=2.1.2,!=2.1.6,>=2.0.1 in c:\\users\\mohamed\\anaconda3\\lib\\site-packages (from matplotlib>=1.4.3->seaborn) (2.2.0)\n",
      "Requirement already satisfied: python-dateutil>=2.1 in c:\\users\\mohamed\\anaconda3\\lib\\site-packages (from matplotlib>=1.4.3->seaborn) (2.7.3)\n",
      "Requirement already satisfied: pytz in c:\\users\\mohamed\\anaconda3\\lib\\site-packages (from matplotlib>=1.4.3->seaborn) (2018.5)\n",
      "Requirement already satisfied: six>=1.10 in c:\\users\\mohamed\\anaconda3\\lib\\site-packages (from matplotlib>=1.4.3->seaborn) (1.11.0)\n",
      "Requirement already satisfied: kiwisolver>=1.0.1 in c:\\users\\mohamed\\anaconda3\\lib\\site-packages (from matplotlib>=1.4.3->seaborn) (1.0.1)\n",
      "Requirement already satisfied: setuptools in c:\\users\\mohamed\\anaconda3\\lib\\site-packages (from kiwisolver>=1.0.1->matplotlib>=1.4.3->seaborn) (40.2.0)\n"
     ]
    },
    {
     "name": "stderr",
     "output_type": "stream",
     "text": [
      "twisted 18.7.0 requires PyHamcrest>=1.9.0, which is not installed.\n",
      "conda 4.11.0 requires ruamel_yaml_conda>=0.11.14, which is not installed.\n",
      "notebook 6.4.8 has requirement Send2Trash>=1.8.0, but you'll have send2trash 1.5.0 which is incompatible.\n",
      "anyio 2.0.2 has requirement idna>=2.8, but you'll have idna 2.7 which is incompatible.\n",
      "You are using pip version 10.0.1, however version 22.0.3 is available.\n",
      "You should consider upgrading via the 'python -m pip install --upgrade pip' command.\n"
     ]
    },
    {
     "name": "stdout",
     "output_type": "stream",
     "text": [
      "Requirement already satisfied: matplotlib in c:\\users\\mohamed\\anaconda3\\lib\\site-packages (2.2.3)\n",
      "Requirement already satisfied: numpy>=1.7.1 in c:\\users\\mohamed\\anaconda3\\lib\\site-packages (from matplotlib) (1.15.1)\n",
      "Requirement already satisfied: cycler>=0.10 in c:\\users\\mohamed\\anaconda3\\lib\\site-packages (from matplotlib) (0.10.0)\n",
      "Requirement already satisfied: pyparsing!=2.0.4,!=2.1.2,!=2.1.6,>=2.0.1 in c:\\users\\mohamed\\anaconda3\\lib\\site-packages (from matplotlib) (2.2.0)\n",
      "Requirement already satisfied: python-dateutil>=2.1 in c:\\users\\mohamed\\anaconda3\\lib\\site-packages (from matplotlib) (2.7.3)\n",
      "Requirement already satisfied: pytz in c:\\users\\mohamed\\anaconda3\\lib\\site-packages (from matplotlib) (2018.5)\n",
      "Requirement already satisfied: six>=1.10 in c:\\users\\mohamed\\anaconda3\\lib\\site-packages (from matplotlib) (1.11.0)\n",
      "Requirement already satisfied: kiwisolver>=1.0.1 in c:\\users\\mohamed\\anaconda3\\lib\\site-packages (from matplotlib) (1.0.1)\n",
      "Requirement already satisfied: setuptools in c:\\users\\mohamed\\anaconda3\\lib\\site-packages (from kiwisolver>=1.0.1->matplotlib) (40.2.0)\n"
     ]
    },
    {
     "name": "stderr",
     "output_type": "stream",
     "text": [
      "twisted 18.7.0 requires PyHamcrest>=1.9.0, which is not installed.\n",
      "conda 4.11.0 requires ruamel_yaml_conda>=0.11.14, which is not installed.\n",
      "notebook 6.4.8 has requirement Send2Trash>=1.8.0, but you'll have send2trash 1.5.0 which is incompatible.\n",
      "anyio 2.0.2 has requirement idna>=2.8, but you'll have idna 2.7 which is incompatible.\n",
      "You are using pip version 10.0.1, however version 22.0.3 is available.\n",
      "You should consider upgrading via the 'python -m pip install --upgrade pip' command.\n"
     ]
    },
    {
     "name": "stdout",
     "output_type": "stream",
     "text": [
      "Requirement already satisfied: pygments in c:\\users\\mohamed\\anaconda3\\lib\\site-packages (2.2.0)\n"
     ]
    },
    {
     "name": "stderr",
     "output_type": "stream",
     "text": [
      "twisted 18.7.0 requires PyHamcrest>=1.9.0, which is not installed.\n",
      "conda 4.11.0 requires ruamel_yaml_conda>=0.11.14, which is not installed.\n",
      "notebook 6.4.8 has requirement Send2Trash>=1.8.0, but you'll have send2trash 1.5.0 which is incompatible.\n",
      "anyio 2.0.2 has requirement idna>=2.8, but you'll have idna 2.7 which is incompatible.\n",
      "You are using pip version 10.0.1, however version 22.0.3 is available.\n",
      "You should consider upgrading via the 'python -m pip install --upgrade pip' command.\n"
     ]
    },
    {
     "name": "stdout",
     "output_type": "stream",
     "text": [
      "Requirement already satisfied: google_play_scraper in c:\\users\\mohamed\\anaconda3\\lib\\site-packages (1.0.3)\n"
     ]
    },
    {
     "name": "stderr",
     "output_type": "stream",
     "text": [
      "twisted 18.7.0 requires PyHamcrest>=1.9.0, which is not installed.\n",
      "conda 4.11.0 requires ruamel_yaml_conda>=0.11.14, which is not installed.\n",
      "notebook 6.4.8 has requirement Send2Trash>=1.8.0, but you'll have send2trash 1.5.0 which is incompatible.\n",
      "anyio 2.0.2 has requirement idna>=2.8, but you'll have idna 2.7 which is incompatible.\n",
      "You are using pip version 10.0.1, however version 22.0.3 is available.\n",
      "You should consider upgrading via the 'python -m pip install --upgrade pip' command.\n"
     ]
    }
   ],
   "source": [
    "!pip install tqdm\n",
    "!pip install seaborn\n",
    "!pip install matplotlib\n",
    "!pip install pygments\n",
    "!pip install google_play_scraper"
   ]
  },
  {
   "cell_type": "code",
   "execution_count": null,
   "metadata": {},
   "outputs": [],
   "source": [
    "#Step 1: Import required packages\n",
    "import json\n",
    "import pandas as pd\n",
    "from tqdm import tqdm\n",
    "import numpy as np\n",
    "import seaborn as sns\n",
    "import matplotlib.pyplot as plt\n",
    "\n",
    "from pygments import highlight\n",
    "from pygments.lexers import JsonLexer\n",
    "from pygments.formatters import TerminalFormatter\n",
    "\n",
    "from google_play_scraper import Sort, reviews, app\n",
    "\n",
    "%matplotlib inline\n",
    "%config InlineBackend.figure_format='retina'\n",
    "\n",
    "sns.set(style='whitegrid', palette='muted', font_scale=1.2)"
   ]
  },
  {
   "cell_type": "markdown",
   "metadata": {},
   "source": [
    "Step 2: Find the App Id in Google Play Store:\n",
    "\n",
    "URL: https://play.google.com/store/apps/details?id=com.emeint.android.myservices&hl=en&gl=US\n",
    ", ID= com.emeint.android.myservices\n",
    "\n",
    "Step 3: Scrape the Reviews"
   ]
  },
  {
   "cell_type": "code",
   "execution_count": 5,
   "metadata": {},
   "outputs": [
    {
     "name": "stdout",
     "output_type": "stream",
     "text": [
      "[{'reviewId': 'gp:AOqpTOEc6mMbljf94kQwM7QGn7A2PFAP8BagrtQc1Ow1UzTLk5vPm-oQqWAFktyVixYQYC7lEkD460FsxWcPlg', 'userName': 'Adham Demo', 'userImage': 'https://play-lh.googleusercontent.com/a-/AOh14Ghqk6on5t_-dzIQca2ATFSPfzMphKEZs3tu78N-JA', 'content': 'جامد جدااا', 'score': 5, 'thumbsUpCount': 0, 'reviewCreatedVersion': '2021.12.2', 'at': datetime.datetime(2022, 2, 16, 18, 17, 59), 'replyContent': None, 'repliedAt': None}, {'reviewId': 'gp:AOqpTOEbSFzoEUlUANVQ4Z8YTbZUIFRSq3q_blWPN3a85gYNfSGldwfpyhkEDnlpViBn_5CjHAc4xSuEgVpjCA', 'userName': 'Nada Ali', 'userImage': 'https://play-lh.googleusercontent.com/a/AATXAJyDgHeHuVoPTmzrq7aOnl-febbF55O-uE760wLm=mo', 'content': 'جميل جدا', 'score': 5, 'thumbsUpCount': 0, 'reviewCreatedVersion': '2022.1.2.3', 'at': datetime.datetime(2022, 2, 16, 18, 11, 6), 'replyContent': None, 'repliedAt': None}, {'reviewId': 'gp:AOqpTOHroTx7-V7Sdlft-f4Q8qsvZNhy-thEKhPnz4tRrpjpD1AcPiNPkMEZDpUBgCMtavWFIGLYfxJzzYXvyQ', 'userName': 'Islam Fayed - اسلام فايد', 'userImage': 'https://play-lh.googleusercontent.com/a-/AOh14GhmMpjO320z2aShu1O_ca-TllvAEg_H5c9d19aFEw', 'content': 'We need dark mode for the app??? When', 'score': 3, 'thumbsUpCount': 0, 'reviewCreatedVersion': '2022.1.2.3', 'at': datetime.datetime(2022, 2, 16, 17, 19, 25), 'replyContent': None, 'repliedAt': None}, {'reviewId': 'gp:AOqpTOFfgRCOfIpcKk666SCB6HiSxh52pxUZuCSWWxuqMPY9cPB7IWqPfKRJCKYCZV4q0nTIHFCFGHS3nVOnNg', 'userName': 'Mahmoud Elmalky', 'userImage': 'https://play-lh.googleusercontent.com/a-/AOh14Gj126eFF8pPSScelm4cDAZFXjxV7UGoiK_1PZfSTA', 'content': 'Good 😊', 'score': 5, 'thumbsUpCount': 0, 'reviewCreatedVersion': '2022.1.2.1', 'at': datetime.datetime(2022, 2, 16, 17, 13, 37), 'replyContent': None, 'repliedAt': None}, {'reviewId': 'gp:AOqpTOEmMPUTISmKI4hEjkdZCd1wYsgZKDH1ZKjlD6Bvftardg6oGgLyzstrIZzhZd0BZxF-ltQ1MzqBt7Ll4w', 'userName': 'MooAhmed Fawzi', 'userImage': 'https://play-lh.googleusercontent.com/a/AATXAJztf1iTUikcbHTZGROcLvF1qDhNnKAoxFGTQUis=mo', 'content': 'Great app, easy to use', 'score': 4, 'thumbsUpCount': 0, 'reviewCreatedVersion': '2022.1.2.3', 'at': datetime.datetime(2022, 2, 16, 16, 16, 42), 'replyContent': None, 'repliedAt': None}, {'reviewId': 'gp:AOqpTOFQcmE1NbYkkYcZZKnKfaJG-j3Y6ZEuL9nqHotg_tAkxc2hJTmAxho20Vts4Pr9klgs29izIDKMct9_Bg', 'userName': 'Muhammad Hamed', 'userImage': 'https://play-lh.googleusercontent.com/a/AATXAJxabH0Xjt_1UTS73IC7BaCWDu9_awX9uxHJVLs=mo', 'content': 'تطبيق ممتاز لكن يتعطل أحياناً', 'score': 3, 'thumbsUpCount': 0, 'reviewCreatedVersion': None, 'at': datetime.datetime(2022, 2, 16, 16, 6, 43), 'replyContent': 'هدفنا دائمًا تقديم أفضل خدمة ممكنة، ويؤسفنا حدوث أي مشكلة لعملائنا، بنشكرك على توضيح مشكلتك، وتأكد إن خدمتك تهمنا لذا سيتم إتخاذ الاجراءات اللازمة لتحسين تجربتك ولضمان عدم تكرار المشكلة مرة أخرى.\\n', 'repliedAt': datetime.datetime(2022, 2, 16, 16, 25, 16)}, {'reviewId': 'gp:AOqpTOEt60ERSEKBop4d4XHUOYAUWEACklQsQLiZXKT3GqCrmbfmgurRpe2kh3F9ro05tq4-JDjq-JRqDwCKPA', 'userName': 'Kimo Morgan', 'userImage': 'https://play-lh.googleusercontent.com/a/AATXAJxkNKQtM9KVu3PXOX4muoeHjQNI5lMEvnbrdW2J=mo', 'content': 'app crash always and many features stopped solve this problems and i give u 5 stars', 'score': 1, 'thumbsUpCount': 0, 'reviewCreatedVersion': '2022.1.2.3', 'at': datetime.datetime(2022, 2, 16, 16, 4, 8), 'replyContent': '\"Hello there, we\\'re sorry to hear about your experience. Could you please chat with us through this link :https://web.vodafone.com.eg, or contact us on our Facebook page through: https://www.messenger.com/t/Vodafone.Egypt. We\\'ll be more than happy to assist regarding your issue.\\n\"\\n', 'repliedAt': datetime.datetime(2022, 2, 16, 16, 25, 24)}, {'reviewId': 'gp:AOqpTOHkCiIVfAgEy7EkBLRMu4LUpoG-RUtwXACExTuXJaAEi_XfggrAea4G3G8Fv54lt8oPHjUfap8cqLPXCg', 'userName': 'Karem. hegazy', 'userImage': 'https://play-lh.googleusercontent.com/a/AATXAJx-5IoB1hbiscOgvSnZlt_pJLnD6QSNp9mZ-G0J=mo', 'content': 'كله مشاكل', 'score': 1, 'thumbsUpCount': 0, 'reviewCreatedVersion': '2022.1.2.1', 'at': datetime.datetime(2022, 2, 16, 15, 58, 6), 'replyContent': 'شكرًا لك على مشاركتك تجربتك ونأسف لأنك مررت بتجربة غير مرضية، تأكد بأننا بنسعى جاهدين لتقديم تجربة أفضل في المستقبل.\\n', 'repliedAt': datetime.datetime(2022, 2, 16, 16, 7, 51)}, {'reviewId': 'gp:AOqpTOEkSV-Ni_vVEvn52T80eB1L2-NLr7RUgLYXcgC9R6y1xVC7y2V2NNIxvEYLXV5d8D2FwtSJxeGMjLop9g', 'userName': 'Mohamed Hosny', 'userImage': 'https://play-lh.googleusercontent.com/a-/AOh14GhRBSzVXasDhu9c_L401DQnPGSDT0kWgtPzSdwZ', 'content': 'App is very good and easy', 'score': 4, 'thumbsUpCount': 0, 'reviewCreatedVersion': '2021.12.2', 'at': datetime.datetime(2022, 2, 16, 15, 26, 57), 'replyContent': None, 'repliedAt': None}]\n"
     ]
    },
    {
     "data": {
      "text/html": [
       "<div>\n",
       "<style scoped>\n",
       "    .dataframe tbody tr th:only-of-type {\n",
       "        vertical-align: middle;\n",
       "    }\n",
       "\n",
       "    .dataframe tbody tr th {\n",
       "        vertical-align: top;\n",
       "    }\n",
       "\n",
       "    .dataframe thead th {\n",
       "        text-align: right;\n",
       "    }\n",
       "</style>\n",
       "<table border=\"1\" class=\"dataframe\">\n",
       "  <thead>\n",
       "    <tr style=\"text-align: right;\">\n",
       "      <th></th>\n",
       "      <th>at</th>\n",
       "      <th>content</th>\n",
       "      <th>repliedAt</th>\n",
       "      <th>replyContent</th>\n",
       "      <th>reviewCreatedVersion</th>\n",
       "      <th>reviewId</th>\n",
       "      <th>score</th>\n",
       "      <th>thumbsUpCount</th>\n",
       "      <th>userImage</th>\n",
       "      <th>userName</th>\n",
       "    </tr>\n",
       "  </thead>\n",
       "  <tbody>\n",
       "    <tr>\n",
       "      <th>0</th>\n",
       "      <td>2022-02-16 18:17:59</td>\n",
       "      <td>جامد جدااا</td>\n",
       "      <td>NaT</td>\n",
       "      <td>None</td>\n",
       "      <td>2021.12.2</td>\n",
       "      <td>gp:AOqpTOEc6mMbljf94kQwM7QGn7A2PFAP8BagrtQc1Ow...</td>\n",
       "      <td>5</td>\n",
       "      <td>0</td>\n",
       "      <td>https://play-lh.googleusercontent.com/a-/AOh14...</td>\n",
       "      <td>Adham Demo</td>\n",
       "    </tr>\n",
       "    <tr>\n",
       "      <th>1</th>\n",
       "      <td>2022-02-16 18:11:06</td>\n",
       "      <td>جميل جدا</td>\n",
       "      <td>NaT</td>\n",
       "      <td>None</td>\n",
       "      <td>2022.1.2.3</td>\n",
       "      <td>gp:AOqpTOEbSFzoEUlUANVQ4Z8YTbZUIFRSq3q_blWPN3a...</td>\n",
       "      <td>5</td>\n",
       "      <td>0</td>\n",
       "      <td>https://play-lh.googleusercontent.com/a/AATXAJ...</td>\n",
       "      <td>Nada Ali</td>\n",
       "    </tr>\n",
       "    <tr>\n",
       "      <th>2</th>\n",
       "      <td>2022-02-16 17:19:25</td>\n",
       "      <td>We need dark mode for the app??? When</td>\n",
       "      <td>NaT</td>\n",
       "      <td>None</td>\n",
       "      <td>2022.1.2.3</td>\n",
       "      <td>gp:AOqpTOHroTx7-V7Sdlft-f4Q8qsvZNhy-thEKhPnz4t...</td>\n",
       "      <td>3</td>\n",
       "      <td>0</td>\n",
       "      <td>https://play-lh.googleusercontent.com/a-/AOh14...</td>\n",
       "      <td>Islam Fayed - اسلام فايد</td>\n",
       "    </tr>\n",
       "    <tr>\n",
       "      <th>3</th>\n",
       "      <td>2022-02-16 17:13:37</td>\n",
       "      <td>Good 😊</td>\n",
       "      <td>NaT</td>\n",
       "      <td>None</td>\n",
       "      <td>2022.1.2.1</td>\n",
       "      <td>gp:AOqpTOFfgRCOfIpcKk666SCB6HiSxh52pxUZuCSWWxu...</td>\n",
       "      <td>5</td>\n",
       "      <td>0</td>\n",
       "      <td>https://play-lh.googleusercontent.com/a-/AOh14...</td>\n",
       "      <td>Mahmoud Elmalky</td>\n",
       "    </tr>\n",
       "    <tr>\n",
       "      <th>4</th>\n",
       "      <td>2022-02-16 16:16:42</td>\n",
       "      <td>Great app, easy to use</td>\n",
       "      <td>NaT</td>\n",
       "      <td>None</td>\n",
       "      <td>2022.1.2.3</td>\n",
       "      <td>gp:AOqpTOEmMPUTISmKI4hEjkdZCd1wYsgZKDH1ZKjlD6B...</td>\n",
       "      <td>4</td>\n",
       "      <td>0</td>\n",
       "      <td>https://play-lh.googleusercontent.com/a/AATXAJ...</td>\n",
       "      <td>MooAhmed Fawzi</td>\n",
       "    </tr>\n",
       "  </tbody>\n",
       "</table>\n",
       "</div>"
      ],
      "text/plain": [
       "                   at                                content repliedAt  \\\n",
       "0 2022-02-16 18:17:59                             جامد جدااا       NaT   \n",
       "1 2022-02-16 18:11:06                               جميل جدا       NaT   \n",
       "2 2022-02-16 17:19:25  We need dark mode for the app??? When       NaT   \n",
       "3 2022-02-16 17:13:37                                 Good 😊       NaT   \n",
       "4 2022-02-16 16:16:42                 Great app, easy to use       NaT   \n",
       "\n",
       "  replyContent reviewCreatedVersion  \\\n",
       "0         None            2021.12.2   \n",
       "1         None           2022.1.2.3   \n",
       "2         None           2022.1.2.3   \n",
       "3         None           2022.1.2.1   \n",
       "4         None           2022.1.2.3   \n",
       "\n",
       "                                            reviewId  score  thumbsUpCount  \\\n",
       "0  gp:AOqpTOEc6mMbljf94kQwM7QGn7A2PFAP8BagrtQc1Ow...      5              0   \n",
       "1  gp:AOqpTOEbSFzoEUlUANVQ4Z8YTbZUIFRSq3q_blWPN3a...      5              0   \n",
       "2  gp:AOqpTOHroTx7-V7Sdlft-f4Q8qsvZNhy-thEKhPnz4t...      3              0   \n",
       "3  gp:AOqpTOFfgRCOfIpcKk666SCB6HiSxh52pxUZuCSWWxu...      5              0   \n",
       "4  gp:AOqpTOEmMPUTISmKI4hEjkdZCd1wYsgZKDH1ZKjlD6B...      4              0   \n",
       "\n",
       "                                           userImage                  userName  \n",
       "0  https://play-lh.googleusercontent.com/a-/AOh14...                Adham Demo  \n",
       "1  https://play-lh.googleusercontent.com/a/AATXAJ...                  Nada Ali  \n",
       "2  https://play-lh.googleusercontent.com/a-/AOh14...  Islam Fayed - اسلام فايد  \n",
       "3  https://play-lh.googleusercontent.com/a-/AOh14...           Mahmoud Elmalky  \n",
       "4  https://play-lh.googleusercontent.com/a/AATXAJ...            MooAhmed Fawzi  "
      ]
     },
     "execution_count": 5,
     "metadata": {},
     "output_type": "execute_result"
    }
   ],
   "source": [
    "#from google_play_scraper import app\n",
    "#\n",
    "result = app(\n",
    "    'com.emeint.android.myservices',\n",
    "    lang='en', # defaults to 'en'\n",
    "    country='eg' # defaults to 'us'\n",
    ")\n",
    "#print(result)\n",
    "\n",
    "from google_play_scraper import Sort, reviews\n",
    "\n",
    "result, continuation_token = reviews(\n",
    "    'com.emeint.android.myservices',\n",
    "    lang='en', # defaults to 'en'\n",
    "    country='eg', # defaults to 'us'\n",
    "    sort=Sort.NEWEST, # defaults to Sort.MOST_RELEVANT MOST_RELEVANT\n",
    "    count=9, # defaults to 100\n",
    "    #filter_score_with=5 # defaults to None(means all score)\n",
    ")\n",
    "\n",
    "# If you pass `continuation_token` as an argument to the reviews function at this point,\n",
    "# it will crawl the items after 3 review items.\n",
    "\n",
    "#result, _ = reviews(\n",
    "#    'com.emeint.android.myservices',\n",
    "#    continuation_token=continuation_token # defaults to None(load from the beginning)\n",
    "#)\n",
    "print(result)\n",
    "\n",
    "#Step 4: Put the Reviews into Pandas DataFrame\n",
    "df_busu = pd.DataFrame(np.array(result),columns=['review'])\n",
    "\n",
    "\n",
    "df_busu = df_busu.join(pd.DataFrame(df_busu.pop('review').tolist()))\n",
    "\n",
    "\n",
    "df_busu.head()\n",
    "#app_reviews_df = pd.DataFrame(result)\n",
    "#app_reviews_df.to_csv('C:/Users/Mohamed/reviews.csv', index=None, header=True)"
   ]
  },
  {
   "cell_type": "code",
   "execution_count": null,
   "metadata": {},
   "outputs": [],
   "source": []
  },
  {
   "cell_type": "code",
   "execution_count": null,
   "metadata": {},
   "outputs": [],
   "source": [
    "#app_reviews_df.head()"
   ]
  },
  {
   "cell_type": "code",
   "execution_count": null,
   "metadata": {},
   "outputs": [],
   "source": []
  }
 ],
 "metadata": {
  "kernelspec": {
   "display_name": "Python 3",
   "language": "python",
   "name": "python3"
  },
  "language_info": {
   "codemirror_mode": {
    "name": "ipython",
    "version": 3
   },
   "file_extension": ".py",
   "mimetype": "text/x-python",
   "name": "python",
   "nbconvert_exporter": "python",
   "pygments_lexer": "ipython3",
   "version": "3.7.0"
  }
 },
 "nbformat": 4,
 "nbformat_minor": 4
}
